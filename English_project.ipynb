{
 "cells": [
  {
   "attachments": {},
   "cell_type": "markdown",
   "metadata": {},
   "source": [
    "# Import libraries"
   ]
  },
  {
   "cell_type": "code",
   "execution_count": 30,
   "metadata": {},
   "outputs": [],
   "source": [
    "import numpy as np\n",
    "import pandas as pd"
   ]
  },
  {
   "cell_type": "code",
   "execution_count": 31,
   "metadata": {},
   "outputs": [],
   "source": [
    "import os\n",
    "import boto3\n",
    "import redshift_connector"
   ]
  },
  {
   "attachments": {},
   "cell_type": "markdown",
   "metadata": {},
   "source": [
    "# Extract\n"
   ]
  },
  {
   "cell_type": "code",
   "execution_count": 36,
   "metadata": {},
   "outputs": [],
   "source": [
    "df_exito =pd.DataFrame(pd.read_csv(\"D:/Proyectos/english/exito.csv\", encoding=\"latin-1\"))\n",
    "df_falabella =pd.DataFrame(pd.read_csv(\"D:/Proyectos/english/falabella.csv\", sep=\";\", encoding=\"latin-1\"))\n",
    "df_ktronix =pd.DataFrame(pd.read_csv(\"D:/Proyectos/english/ktronix.csv\", sep=\";\", encoding=\"latin-1\"))\n"
   ]
  },
  {
   "attachments": {},
   "cell_type": "markdown",
   "metadata": {},
   "source": [
    "# Transform"
   ]
  },
  {
   "cell_type": "code",
   "execution_count": 37,
   "metadata": {},
   "outputs": [
    {
     "name": "stderr",
     "output_type": "stream",
     "text": [
      "C:\\Users\\danie\\AppData\\Local\\Temp\\ipykernel_27796\\2657102327.py:1: FutureWarning: The frame.append method is deprecated and will be removed from pandas in a future version. Use pandas.concat instead.\n",
      "  df_stores = df_exito.append(df_falabella, ignore_index=True)\n",
      "C:\\Users\\danie\\AppData\\Local\\Temp\\ipykernel_27796\\2657102327.py:2: FutureWarning: The frame.append method is deprecated and will be removed from pandas in a future version. Use pandas.concat instead.\n",
      "  df_stores = df_stores.append(df_ktronix, ignore_index=True)\n"
     ]
    },
    {
     "data": {
      "text/html": [
       "<div>\n",
       "<style scoped>\n",
       "    .dataframe tbody tr th:only-of-type {\n",
       "        vertical-align: middle;\n",
       "    }\n",
       "\n",
       "    .dataframe tbody tr th {\n",
       "        vertical-align: top;\n",
       "    }\n",
       "\n",
       "    .dataframe thead th {\n",
       "        text-align: right;\n",
       "    }\n",
       "</style>\n",
       "<table border=\"1\" class=\"dataframe\">\n",
       "  <thead>\n",
       "    <tr style=\"text-align: right;\">\n",
       "      <th></th>\n",
       "      <th>link</th>\n",
       "      <th>brand</th>\n",
       "      <th>warranty</th>\n",
       "      <th>processor</th>\n",
       "      <th>ram</th>\n",
       "      <th>hardDrive</th>\n",
       "      <th>grapCard</th>\n",
       "      <th>capGrapCard</th>\n",
       "      <th>opSystem</th>\n",
       "      <th>screenSize</th>\n",
       "      <th>price</th>\n",
       "    </tr>\n",
       "  </thead>\n",
       "  <tbody>\n",
       "    <tr>\n",
       "      <th>0</th>\n",
       "      <td>https://www.exito.com/computador-portatil-hp-p...</td>\n",
       "      <td>HP</td>\n",
       "      <td>1 año</td>\n",
       "      <td>Intel Core i5-1135G7</td>\n",
       "      <td>8 GB</td>\n",
       "      <td>256 GB SSD</td>\n",
       "      <td>NaN</td>\n",
       "      <td>NaN</td>\n",
       "      <td>Windows 11</td>\n",
       "      <td>15.6 Pulgadas</td>\n",
       "      <td>2.060.859</td>\n",
       "    </tr>\n",
       "    <tr>\n",
       "      <th>1</th>\n",
       "      <td>https://www.exito.com/computador-asus-vivobook...</td>\n",
       "      <td>ASUS</td>\n",
       "      <td>1 año</td>\n",
       "      <td>Intel Core i5-12500H</td>\n",
       "      <td>8 GB</td>\n",
       "      <td>512 GB SSD</td>\n",
       "      <td>NaN</td>\n",
       "      <td>NaN</td>\n",
       "      <td>Windows 11</td>\n",
       "      <td>14 Pulgadas</td>\n",
       "      <td>3.199.360</td>\n",
       "    </tr>\n",
       "    <tr>\n",
       "      <th>2</th>\n",
       "      <td>https://www.exito.com/portatil-asus-vivobook-1...</td>\n",
       "      <td>ASUS</td>\n",
       "      <td>1 año</td>\n",
       "      <td>AMD Ryzen 5 4500U</td>\n",
       "      <td>8 GB</td>\n",
       "      <td>512 GB SSD</td>\n",
       "      <td>NaN</td>\n",
       "      <td>NaN</td>\n",
       "      <td>Windows 11</td>\n",
       "      <td>14 Pulgadas</td>\n",
       "      <td>1.979.400</td>\n",
       "    </tr>\n",
       "    <tr>\n",
       "      <th>3</th>\n",
       "      <td>https://www.exito.com/computador-portatil-hp-a...</td>\n",
       "      <td>HP</td>\n",
       "      <td>1 año</td>\n",
       "      <td>AMD Ryzen 5 5500U</td>\n",
       "      <td>8 GB</td>\n",
       "      <td>512 GB SSD</td>\n",
       "      <td>NaN</td>\n",
       "      <td>NaN</td>\n",
       "      <td>Windows</td>\n",
       "      <td>15.6 Pulgadas</td>\n",
       "      <td>2.089.450</td>\n",
       "    </tr>\n",
       "    <tr>\n",
       "      <th>4</th>\n",
       "      <td>https://www.exito.com/computador-portatil-asus...</td>\n",
       "      <td>ASUS</td>\n",
       "      <td>1 año</td>\n",
       "      <td>Intel Core i5-1240P</td>\n",
       "      <td>8 GB</td>\n",
       "      <td>512 GB SSD</td>\n",
       "      <td>NaN</td>\n",
       "      <td>NaN</td>\n",
       "      <td>Windows 11</td>\n",
       "      <td>15.6 Pulgadas</td>\n",
       "      <td>2.759.900</td>\n",
       "    </tr>\n",
       "    <tr>\n",
       "      <th>...</th>\n",
       "      <td>...</td>\n",
       "      <td>...</td>\n",
       "      <td>...</td>\n",
       "      <td>...</td>\n",
       "      <td>...</td>\n",
       "      <td>...</td>\n",
       "      <td>...</td>\n",
       "      <td>...</td>\n",
       "      <td>...</td>\n",
       "      <td>...</td>\n",
       "      <td>...</td>\n",
       "    </tr>\n",
       "    <tr>\n",
       "      <th>1225</th>\n",
       "      <td>https://www.ktronix.com/macbook-pro16pulgadas-...</td>\n",
       "      <td>APPLE</td>\n",
       "      <td>12 Meses</td>\n",
       "      <td>Apple M2 Pro</td>\n",
       "      <td>16 GB</td>\n",
       "      <td>512 GB SSD</td>\n",
       "      <td>NaN</td>\n",
       "      <td>NaN</td>\n",
       "      <td>MacOS</td>\n",
       "      <td>16 Pulgadas</td>\n",
       "      <td>15.999.000</td>\n",
       "    </tr>\n",
       "    <tr>\n",
       "      <th>1226</th>\n",
       "      <td>https://www.ktronix.com/macbook-air-13-pulgada...</td>\n",
       "      <td>APPLE</td>\n",
       "      <td>12 Meses</td>\n",
       "      <td>APPLE M2</td>\n",
       "      <td>8 GB</td>\n",
       "      <td>Estado Solido SSD 512 GB</td>\n",
       "      <td>NaN</td>\n",
       "      <td>NaN</td>\n",
       "      <td>MacOS</td>\n",
       "      <td>13.6 Pulgadas</td>\n",
       "      <td>9.834.000</td>\n",
       "    </tr>\n",
       "    <tr>\n",
       "      <th>1227</th>\n",
       "      <td>https://www.ktronix.com/macbook-air-13-pulgada...</td>\n",
       "      <td>APPLE</td>\n",
       "      <td>12 Meses</td>\n",
       "      <td>APPLE M2</td>\n",
       "      <td>8 GB</td>\n",
       "      <td>Estado Solido SSD 512 GB</td>\n",
       "      <td>NaN</td>\n",
       "      <td>NaN</td>\n",
       "      <td>MacOS</td>\n",
       "      <td>13.6 Pulgadas</td>\n",
       "      <td>9.834.000</td>\n",
       "    </tr>\n",
       "    <tr>\n",
       "      <th>1228</th>\n",
       "      <td>https://www.ktronix.com/macbook-air-13-pulgada...</td>\n",
       "      <td>APPLE</td>\n",
       "      <td>12 Meses</td>\n",
       "      <td>APPLE M2</td>\n",
       "      <td>8 GB</td>\n",
       "      <td>Estado Solido SSD 512 GB</td>\n",
       "      <td>NaN</td>\n",
       "      <td>NaN</td>\n",
       "      <td>MacOS</td>\n",
       "      <td>13.6 Pulgadas</td>\n",
       "      <td>9.834.000</td>\n",
       "    </tr>\n",
       "    <tr>\n",
       "      <th>1229</th>\n",
       "      <td>https://www.ktronix.com/macbook-pro-14pulgadas...</td>\n",
       "      <td>APPLE</td>\n",
       "      <td>12 Meses</td>\n",
       "      <td>APPLE M1</td>\n",
       "      <td>NaN</td>\n",
       "      <td>Estado Solido SSD 1 TB</td>\n",
       "      <td>NaN</td>\n",
       "      <td>NaN</td>\n",
       "      <td>MacOS</td>\n",
       "      <td>14.2 Pulgadas</td>\n",
       "      <td>13.199.000</td>\n",
       "    </tr>\n",
       "  </tbody>\n",
       "</table>\n",
       "<p>1230 rows × 11 columns</p>\n",
       "</div>"
      ],
      "text/plain": [
       "                                                   link  brand  warranty  \\\n",
       "0     https://www.exito.com/computador-portatil-hp-p...     HP     1 año   \n",
       "1     https://www.exito.com/computador-asus-vivobook...   ASUS     1 año   \n",
       "2     https://www.exito.com/portatil-asus-vivobook-1...   ASUS     1 año   \n",
       "3     https://www.exito.com/computador-portatil-hp-a...     HP     1 año   \n",
       "4     https://www.exito.com/computador-portatil-asus...   ASUS     1 año   \n",
       "...                                                 ...    ...       ...   \n",
       "1225  https://www.ktronix.com/macbook-pro16pulgadas-...  APPLE  12 Meses   \n",
       "1226  https://www.ktronix.com/macbook-air-13-pulgada...  APPLE  12 Meses   \n",
       "1227  https://www.ktronix.com/macbook-air-13-pulgada...  APPLE  12 Meses   \n",
       "1228  https://www.ktronix.com/macbook-air-13-pulgada...  APPLE  12 Meses   \n",
       "1229  https://www.ktronix.com/macbook-pro-14pulgadas...  APPLE  12 Meses   \n",
       "\n",
       "                 processor    ram                 hardDrive grapCard  \\\n",
       "0     Intel Core i5-1135G7   8 GB                256 GB SSD      NaN   \n",
       "1     Intel Core i5-12500H   8 GB                512 GB SSD      NaN   \n",
       "2        AMD Ryzen 5 4500U   8 GB                512 GB SSD      NaN   \n",
       "3        AMD Ryzen 5 5500U   8 GB                512 GB SSD      NaN   \n",
       "4      Intel Core i5-1240P   8 GB                512 GB SSD      NaN   \n",
       "...                    ...    ...                       ...      ...   \n",
       "1225          Apple M2 Pro  16 GB                512 GB SSD      NaN   \n",
       "1226              APPLE M2   8 GB  Estado Solido SSD 512 GB      NaN   \n",
       "1227              APPLE M2   8 GB  Estado Solido SSD 512 GB      NaN   \n",
       "1228              APPLE M2   8 GB  Estado Solido SSD 512 GB      NaN   \n",
       "1229              APPLE M1    NaN    Estado Solido SSD 1 TB      NaN   \n",
       "\n",
       "     capGrapCard    opSystem     screenSize       price  \n",
       "0            NaN  Windows 11  15.6 Pulgadas   2.060.859  \n",
       "1            NaN  Windows 11    14 Pulgadas   3.199.360  \n",
       "2            NaN  Windows 11    14 Pulgadas   1.979.400  \n",
       "3            NaN     Windows  15.6 Pulgadas   2.089.450  \n",
       "4            NaN  Windows 11  15.6 Pulgadas   2.759.900  \n",
       "...          ...         ...            ...         ...  \n",
       "1225         NaN       MacOS    16 Pulgadas  15.999.000  \n",
       "1226         NaN       MacOS  13.6 Pulgadas   9.834.000  \n",
       "1227         NaN       MacOS  13.6 Pulgadas   9.834.000  \n",
       "1228         NaN       MacOS  13.6 Pulgadas   9.834.000  \n",
       "1229         NaN       MacOS  14.2 Pulgadas  13.199.000  \n",
       "\n",
       "[1230 rows x 11 columns]"
      ]
     },
     "execution_count": 37,
     "metadata": {},
     "output_type": "execute_result"
    }
   ],
   "source": [
    "df_stores = df_exito.append(df_falabella, ignore_index=True)\n",
    "df_stores = df_stores.append(df_ktronix, ignore_index=True)\n",
    "df_stores\n"
   ]
  },
  {
   "attachments": {},
   "cell_type": "markdown",
   "metadata": {},
   "source": [
    "## Clean Column Ram"
   ]
  },
  {
   "cell_type": "code",
   "execution_count": 38,
   "metadata": {},
   "outputs": [],
   "source": [
    "df_stores['ram_GB'] = df_stores['ram'].str.replace(' GB', '')\n",
    "df_stores['ram_GB'] = df_stores['ram_GB'].str.replace('GB', '')\n",
    "df_stores['ram_GB'] = df_stores['ram_GB'].str.replace('gb', '')\n",
    "df_stores['ram_GB'] = df_stores['ram_GB'].str.replace('768 MB', np.isnan)\n",
    "df_stores['ram_GB'] = df_stores['ram_GB'].str.replace('768', np.isnan)\n",
    "df_stores['ram_GB'] = df_stores['ram_GB'].str.replace('45KB', np.isnan)\n",
    "df_stores['ram_GB'] = df_stores['ram_GB'].str.replace('1TB', np.isnan)\n",
    "df_stores['ram_GB'] = df_stores['ram_GB'].str.replace(' MB', '')\n",
    "df_stores['ram_GB'] = df_stores['ram_GB'].str.replace('MB', '')\n",
    "df_stores['ram_GB'] = df_stores['ram_GB'].str.replace('No aplica', np.isnan)\n",
    "df_stores['ram_GB'] = df_stores['ram_GB'].str.replace(' ', '')"
   ]
  },
  {
   "attachments": {},
   "cell_type": "markdown",
   "metadata": {},
   "source": [
    "## Clean column Hard Drive\n"
   ]
  },
  {
   "cell_type": "code",
   "execution_count": 39,
   "metadata": {},
   "outputs": [
    {
     "data": {
      "text/plain": [
       "0         256 SSD\n",
       "1         512 SSD\n",
       "5        1000 SSD\n",
       "13            512\n",
       "25        128 SSD\n",
       "45            NaN\n",
       "63            256\n",
       "111          1000\n",
       "174           128\n",
       "207           500\n",
       "309       960 SSD\n",
       "414       240 SSD\n",
       "449            64\n",
       "610       480 SSD\n",
       "614       SSD 100\n",
       "741           240\n",
       "770            16\n",
       "773          2000\n",
       "870             1\n",
       "909           250\n",
       "948             8\n",
       "1004         4000\n",
       "1084           32\n",
       "1139     512  SSD\n",
       "1183    1000  SSD\n",
       "1217     2000 SSD\n",
       "Name: hardDrive_GB, dtype: object"
      ]
     },
     "execution_count": 39,
     "metadata": {},
     "output_type": "execute_result"
    }
   ],
   "source": [
    "df_stores['hardDrive_GB'] = df_stores['hardDrive'].str.replace(' GB', '')\n",
    "df_stores['hardDrive_GB'] = df_stores['hardDrive_GB'].str.replace('GB', '')\n",
    "df_stores['hardDrive_GB'] = df_stores['hardDrive_GB'].str.replace('gb', '')\n",
    "df_stores['hardDrive_GB'] = df_stores['hardDrive_GB'].str.replace('1TB', '1000')\n",
    "df_stores['hardDrive_GB'] = df_stores['hardDrive_GB'].str.replace('1tb', '1000')\n",
    "df_stores['hardDrive_GB'] = df_stores['hardDrive_GB'].str.replace('1 TB', '1000')\n",
    "df_stores['hardDrive_GB'] = df_stores['hardDrive_GB'].str.replace('1 TB', '1000')\n",
    "df_stores['hardDrive_GB'] = df_stores['hardDrive_GB'].str.replace('4tb', '4000')\n",
    "df_stores['hardDrive_GB'] = df_stores['hardDrive_GB'].str.replace('2TB', '2000')\n",
    "df_stores['hardDrive_GB'] = df_stores['hardDrive_GB'].str.replace('Mec', np.isnan)\n",
    "df_stores['hardDrive_GB'] = df_stores['hardDrive_GB'].str.replace('H', np.isnan)\n",
    "df_stores['hardDrive_GB'] = df_stores['hardDrive_GB'].str.replace('Disco s', np.isnan)\n",
    "df_stores['hardDrive_GB'] = df_stores['hardDrive_GB'].str.replace('SSD 960', '960 SSD')\n",
    "df_stores['hardDrive_GB'] = df_stores['hardDrive_GB'].str.replace('SSD 480', '480 SSD')\n",
    "df_stores['hardDrive_GB'] = df_stores['hardDrive_GB'].str.replace('SSD 240', '240 SSD')\n",
    "df_stores['hardDrive_GB'] = df_stores['hardDrive_GB'].str.replace('No aplica', np.isnan)\n",
    "df_stores['hardDrive_GB'] = df_stores['hardDrive_GB'].str.replace('Estado Solido SSD 256', '256 SSD')\n",
    "df_stores['hardDrive_GB'] = df_stores['hardDrive_GB'].str.replace('Estado Solido SSD 512', '512 SSD')\n",
    "df_stores['hardDrive_GB'] = df_stores['hardDrive_GB'].str.replace('Estado Solido SSD 1000', '1000 SSD')\n",
    "df_stores['hardDrive_GB'] = df_stores['hardDrive_GB'].str.replace('Estado Solido SSD 2 TB', '2000 SSD')\n",
    "df_stores['hardDrive_GB'].drop_duplicates()"
   ]
  },
  {
   "attachments": {},
   "cell_type": "markdown",
   "metadata": {},
   "source": [
    "## Clean Price Column"
   ]
  },
  {
   "cell_type": "code",
   "execution_count": null,
   "metadata": {},
   "outputs": [
    {
     "name": "stderr",
     "output_type": "stream",
     "text": [
      "C:\\Users\\danie\\AppData\\Local\\Temp\\ipykernel_27796\\1221022348.py:1: FutureWarning: The default value of regex will change from True to False in a future version. In addition, single character regular expressions will *not* be treated as literal strings when regex=True.\n",
      "  df_stores['price'] = df_stores['price'].str.replace('.', '')\n"
     ]
    },
    {
     "data": {
      "text/plain": [
       "pandas.core.series.Series"
      ]
     },
     "execution_count": 20,
     "metadata": {},
     "output_type": "execute_result"
    }
   ],
   "source": [
    "df_stores['price'] = df_stores['price'].str.replace('.', '')\n",
    "df_stores = df_stores[df_stores['price'].notnull()]\n",
    "df_stores['price'] = df_stores['price'].astype('int32')\n",
    "type(df_stores['price'])"
   ]
  },
  {
   "attachments": {},
   "cell_type": "markdown",
   "metadata": {},
   "source": [
    "## Clean Warranty Column"
   ]
  },
  {
   "cell_type": "code",
   "execution_count": null,
   "metadata": {},
   "outputs": [],
   "source": [
    "df_stores['warranty'] = df_stores['warranty'].str.replace('1 año', '12')\n",
    "df_stores['warranty'] = df_stores['warranty'].str.replace(' meses', '')\n",
    "df_stores['warranty'] = df_stores['warranty'].str.replace('1 Año', '12')\n",
    "df_stores['warranty'] = df_stores['warranty'].str.replace('2 Años', '24')\n",
    "df_stores['warranty'] = df_stores['warranty'].str.replace('2 años', '24')\n",
    "df_stores['warranty'] = df_stores['warranty'].str.replace(' Meses', '')\n",
    "df_stores['warranty'] = df_stores['warranty'].str.replace(' MESES', '')\n",
    "df_stores['warranty'] = df_stores['warranty'].str.replace('3 años', '36')\n",
    "df_stores['warranty'] = df_stores['warranty'].str.replace('1 A', '12')\n",
    "df_stores['warranty'] = df_stores['warranty'].str.replace('12s', '12')"
   ]
  },
  {
   "attachments": {},
   "cell_type": "markdown",
   "metadata": {},
   "source": [
    "## Clean OS Column"
   ]
  },
  {
   "cell_type": "code",
   "execution_count": null,
   "metadata": {},
   "outputs": [
    {
     "data": {
      "text/plain": [
       "0                   Windows 11\n",
       "3                      Windows\n",
       "9                   Windows 10\n",
       "15                     Endless\n",
       "48                     FreeDos\n",
       "64                       Linux\n",
       "67                      Ubuntu\n",
       "159                        NaN\n",
       "168                     Mac OS\n",
       "400    Sistema Operativo Linux\n",
       "414                     UBUNTU\n",
       "487                  Chrome os\n",
       "797                 Android tv\n",
       "854              Windows phone\n",
       "Name: OS, dtype: object"
      ]
     },
     "execution_count": 22,
     "metadata": {},
     "output_type": "execute_result"
    }
   ],
   "source": [
    "df_stores['OS'] = df_stores['opSystem'].str.replace('Windows 11 Home 64 Single Language', 'Windows 11')\n",
    "df_stores['OS'] = df_stores['OS'].str.replace('Windows 11 Home', 'Windows 11')\n",
    "df_stores['OS'] = df_stores['OS'].str.replace('Windows 11 Home 64', 'Windows 11')\n",
    "df_stores['OS'] = df_stores['OS'].str.replace('Windows 11 Home Single Language', 'Windows 11')\n",
    "df_stores['OS'] = df_stores['OS'].str.replace('Windows 11 home', 'Windows 11')\n",
    "df_stores['OS'] = df_stores['OS'].str.replace('Windows 11 Single Language', 'Windows 11')\n",
    "df_stores['OS'] = df_stores['OS'].str.replace('Windows 11 64', 'Windows 11')\n",
    "df_stores['OS'] = df_stores['OS'].str.replace('Windows  11', 'Windows 11')\n",
    "df_stores['OS'] = df_stores['OS'].str.replace('Windows 11 Pro', 'Windows 11')\n",
    "\n",
    "df_stores['OS'] = df_stores['OS'].str.replace('Windows 10 Home', 'Windows 10')\n",
    "df_stores['OS'] = df_stores['OS'].str.replace('Windows 10 Home 64', 'Windows 10')\n",
    "df_stores['OS'] = df_stores['OS'].str.replace('windows 10 profesional no licenciado de prueba', 'Windows 10')\n",
    "df_stores['OS'] = df_stores['OS'].str.replace('Windows 10 de Prueba', 'Windows 10')\n",
    "df_stores['OS'] = df_stores['OS'].str.replace('Windows 10 de prueba', 'Windows 10')\n",
    "df_stores['OS'] = df_stores['OS'].str.replace('Windows 10 de prueba', 'Windows 10')\n",
    "df_stores['OS'] = df_stores['OS'].str.replace('Windows 10 profesional', 'Windows 10')\n",
    "df_stores['OS'] = df_stores['OS'].str.replace('Windows 10 Pro 64', 'Windows 10')\n",
    "df_stores['OS'] = df_stores['OS'].str.replace('windows 10 home', 'Windows 10')\n",
    "df_stores['OS'] = df_stores['OS'].str.replace('Windows 10 home', 'Windows 10')\n",
    "df_stores['OS'] = df_stores['OS'].str.replace('Windows 10 64', 'Windows 10')\n",
    "df_stores['OS'] = df_stores['OS'].str.replace('Windows 10 Profesional', 'Windows 10')\n",
    "df_stores['OS'] = df_stores['OS'].str.replace('windows 10', 'Windows 10')\n",
    "df_stores['OS'] = df_stores['OS'].str.replace('Windows 10 Pro', 'Windows 10')\n",
    "df_stores['OS'] = df_stores['OS'].str.replace('Windows 10 Pro', 'Windows 10')\n",
    "df_stores['OS'] = df_stores['OS'].str.replace('Windows 10 HOME', 'Windows 10')\n",
    "\n",
    "df_stores['OS'] = df_stores['OS'].str.replace('windows', 'Windows')\n",
    "df_stores['OS'] = df_stores['OS'].str.replace('Windows de prueba', 'Windows')\n",
    "\n",
    "\n",
    "df_stores['OS'] = df_stores['OS'].str.replace('LINUX', 'Linux')\n",
    "df_stores['OS'] = df_stores['OS'].str.replace('linux', 'Linux')\n",
    "df_stores['OS'] = df_stores['OS'].str.replace('linux', 'Linux')\n",
    "df_stores['OS'] = df_stores['OS'].str.replace('linux', 'Linux')\n",
    "df_stores['OS'] = df_stores['OS'].str.replace('Sistema Operativo LINUX', 'Linux')\n",
    "\n",
    "df_stores['OS'] = df_stores['OS'].str.replace('Mac Os X', 'Mac OS')\n",
    "df_stores['OS'] = df_stores['OS'].str.replace('macOS', 'Mac OS')\n",
    "df_stores['OS'] = df_stores['OS'].str.replace('MacOS', 'Mac OS')\n",
    "df_stores['OS'] = df_stores['OS'].str.replace('Mac Os', 'Mac OS')\n",
    "\n",
    "\n",
    "df_stores['OS'] = df_stores['OS'].str.replace('Google Chrome Os', 'Chrome os')\n",
    "\n",
    "df_stores['OS'] = df_stores['OS'].str.replace('DOS', 'FreeDos')\n",
    "df_stores['OS'] = df_stores['OS'].str.replace('FreeDOS', 'FreeDos')\n",
    "df_stores['OS'] = df_stores['OS'].str.replace('FreeFreeDos', 'FreeDos')\n",
    "df_stores['OS'] = df_stores['OS'].str.replace('Free dos', 'FreeDos')\n",
    "\n",
    "df_stores['OS'] = df_stores['OS'].str.replace('Sin Sistema Operativo', np.isnan)\n",
    "df_stores['OS'] = df_stores['OS'].str.replace('No aplica', np.isnan)\n",
    "df_stores['OS'] = df_stores['OS'].str.replace('De fabricante', np.isnan)\n",
    "\n",
    "df_stores['OS'] = df_stores['OS'].str.replace('Endless os', 'Endless')\n",
    "df_stores['OS'] = df_stores['OS'].str.replace('Endless os', 'Endless')\n",
    "\n",
    "\n",
    "df_stores['OS'].drop_duplicates()"
   ]
  },
  {
   "cell_type": "code",
   "execution_count": null,
   "metadata": {},
   "outputs": [
    {
     "data": {
      "text/plain": [
       "Index(['link', 'brand', 'warranty', 'processor', 'ram', 'hardDrive',\n",
       "       'grapCard', 'capGrapCard', 'opSystem', 'screenSize', 'price', 'ram_GB',\n",
       "       'hardDrive_GB', 'OS'],\n",
       "      dtype='object')"
      ]
     },
     "execution_count": 23,
     "metadata": {},
     "output_type": "execute_result"
    }
   ],
   "source": [
    "df_stores.columns"
   ]
  },
  {
   "attachments": {},
   "cell_type": "markdown",
   "metadata": {},
   "source": [
    "## Create CVS"
   ]
  },
  {
   "cell_type": "code",
   "execution_count": null,
   "metadata": {},
   "outputs": [],
   "source": [
    "df_stores.to_csv('df_stores.csv', index=False)"
   ]
  },
  {
   "attachments": {},
   "cell_type": "markdown",
   "metadata": {},
   "source": [
    "# Load"
   ]
  },
  {
   "cell_type": "code",
   "execution_count": null,
   "metadata": {},
   "outputs": [],
   "source": [
    "client = boto3.client(\n",
    "    's3',\n",
    "    aws_access_key_id=os.environ.get('AWS_ACCESS_KEY_ID'),\n",
    "    aws_secret_access_key=os.environ.get('AWS_SECRET_ACCESS_KEY'),\n",
    ")\n",
    "\n",
    "conn = redshift_connector.connect(\n",
    "    host= os.environ.get('host'),\n",
    "    database=os.environ.get('database'),\n",
    "    port=5439,\n",
    "    user=os.environ.get('user'),\n",
    "    password=os.environ.get('password')\n",
    ")\n",
    "cursor = conn.cursor()"
   ]
  },
  {
   "cell_type": "code",
   "execution_count": null,
   "metadata": {},
   "outputs": [],
   "source": [
    "conn.close()"
   ]
  },
  {
   "cell_type": "code",
   "execution_count": null,
   "metadata": {},
   "outputs": [],
   "source": [
    "def load_file(file_name):\n",
    "    table_name= file_name.split('.')[0]\n",
    "    client.upload_file(\n",
    "        Filename='D:/Proyectos/english/{}'.format(file_name),\n",
    "        Bucket = 'nombre-unico-bucket-platzi',\n",
    "        Key = 'english_project/{}'.format(file_name)\n",
    "    )\n",
    "    sentence = '''copy public/.{} from 's3://nombre-unico-bucket-platzi/{}' credentials 'aws_access_key_id={};aws_secret_access_key={}' csv delimiter '|' region 'us-east-2' ignoreheader 1'''.format(table_name, file_name, os.environ.get('AWS_ACCESS_KEY_ID'),  os.environ.get('AWS_SECRET_ACCESS_KEY'))\n",
    "    try:\n",
    "        cursor.execute(sentence)\n",
    "        print('OK en la tabla ' +table_name)\n",
    "    except:\n",
    "        print('Error en la tabla ' +table_name)"
   ]
  },
  {
   "cell_type": "code",
   "execution_count": null,
   "metadata": {},
   "outputs": [
    {
     "name": "stdout",
     "output_type": "stream",
     "text": [
      "Error en la tabla df_stores\n"
     ]
    }
   ],
   "source": [
    "load_file('df_stores.csv')"
   ]
  },
  {
   "cell_type": "code",
   "execution_count": null,
   "metadata": {},
   "outputs": [
    {
     "ename": "InterfaceError",
     "evalue": "connection is closed",
     "output_type": "error",
     "traceback": [
      "\u001b[1;31m---------------------------------------------------------------------------\u001b[0m",
      "\u001b[1;31mKeyError\u001b[0m                                  Traceback (most recent call last)",
      "File \u001b[1;32md:\\Anaconda\\envs\\fundamentos-etl\\lib\\site-packages\\redshift_connector\\core.py:1631\u001b[0m, in \u001b[0;36mConnection.execute\u001b[1;34m(self, cursor, operation, vals)\u001b[0m\n\u001b[0;32m   1630\u001b[0m \u001b[39mtry\u001b[39;00m:\n\u001b[1;32m-> 1631\u001b[0m     ps \u001b[39m=\u001b[39m cache[\u001b[39m\"\u001b[39;49m\u001b[39mps\u001b[39;49m\u001b[39m\"\u001b[39;49m][key]\n\u001b[0;32m   1632\u001b[0m     cursor\u001b[39m.\u001b[39mps \u001b[39m=\u001b[39m ps\n",
      "\u001b[1;31mKeyError\u001b[0m: ('commit', ())",
      "\nDuring handling of the above exception, another exception occurred:\n",
      "\u001b[1;31mValueError\u001b[0m                                Traceback (most recent call last)",
      "File \u001b[1;32md:\\Anaconda\\envs\\fundamentos-etl\\lib\\site-packages\\redshift_connector\\core.py:1787\u001b[0m, in \u001b[0;36mConnection._send_message\u001b[1;34m(self, code, data)\u001b[0m\n\u001b[0;32m   1786\u001b[0m \u001b[39mtry\u001b[39;00m:\n\u001b[1;32m-> 1787\u001b[0m     \u001b[39mself\u001b[39;49m\u001b[39m.\u001b[39;49m_write(code)\n\u001b[0;32m   1788\u001b[0m     \u001b[39mself\u001b[39m\u001b[39m.\u001b[39m_write(i_pack(\u001b[39mlen\u001b[39m(data) \u001b[39m+\u001b[39m \u001b[39m4\u001b[39m))\n",
      "\u001b[1;31mValueError\u001b[0m: write to closed file",
      "\nDuring handling of the above exception, another exception occurred:\n",
      "\u001b[1;31mInterfaceError\u001b[0m                            Traceback (most recent call last)",
      "Cell \u001b[1;32mIn[29], line 1\u001b[0m\n\u001b[1;32m----> 1\u001b[0m conn\u001b[39m.\u001b[39;49mcommit()\n",
      "File \u001b[1;32md:\\Anaconda\\envs\\fundamentos-etl\\lib\\site-packages\\redshift_connector\\core.py:1202\u001b[0m, in \u001b[0;36mConnection.commit\u001b[1;34m(self)\u001b[0m\n\u001b[0;32m   1192\u001b[0m \u001b[39mdef\u001b[39;00m \u001b[39mcommit\u001b[39m(\u001b[39mself\u001b[39m: \u001b[39m\"\u001b[39m\u001b[39mConnection\u001b[39m\u001b[39m\"\u001b[39m) \u001b[39m-\u001b[39m\u001b[39m>\u001b[39m \u001b[39mNone\u001b[39;00m:\n\u001b[0;32m   1193\u001b[0m \u001b[39m    \u001b[39m\u001b[39m\"\"\"Commits the current database transaction.\u001b[39;00m\n\u001b[0;32m   1194\u001b[0m \n\u001b[0;32m   1195\u001b[0m \u001b[39m    This function is part of the `DBAPI 2.0 specification\u001b[39;00m\n\u001b[1;32m   (...)\u001b[0m\n\u001b[0;32m   1200\u001b[0m \u001b[39m    None:None\u001b[39;00m\n\u001b[0;32m   1201\u001b[0m \u001b[39m    \"\"\"\u001b[39;00m\n\u001b[1;32m-> 1202\u001b[0m     \u001b[39mself\u001b[39;49m\u001b[39m.\u001b[39;49mexecute(\u001b[39mself\u001b[39;49m\u001b[39m.\u001b[39;49m_cursor, \u001b[39m\"\u001b[39;49m\u001b[39mcommit\u001b[39;49m\u001b[39m\"\u001b[39;49m, \u001b[39mNone\u001b[39;49;00m)\n",
      "File \u001b[1;32md:\\Anaconda\\envs\\fundamentos-etl\\lib\\site-packages\\redshift_connector\\core.py:1685\u001b[0m, in \u001b[0;36mConnection.execute\u001b[1;34m(self, cursor, operation, vals)\u001b[0m\n\u001b[0;32m   1677\u001b[0m     typing\u001b[39m.\u001b[39mcast(\u001b[39mbytearray\u001b[39m, val)\u001b[39m.\u001b[39mextend(i_pack(\u001b[39m705\u001b[39m \u001b[39mif\u001b[39;00m oid \u001b[39m==\u001b[39m \u001b[39m-\u001b[39m\u001b[39m1\u001b[39m \u001b[39melse\u001b[39;00m oid))\n\u001b[0;32m   1679\u001b[0m \u001b[39m# Byte1('D') - Identifies the message as a describe command.\u001b[39;00m\n\u001b[0;32m   1680\u001b[0m \u001b[39m# Int32 - Message length, including self.\u001b[39;00m\n\u001b[0;32m   1681\u001b[0m \u001b[39m# Byte1 - 'S' for prepared statement, 'P' for portal.\u001b[39;00m\n\u001b[0;32m   1682\u001b[0m \u001b[39m# String - The name of the item to describe.\u001b[39;00m\n\u001b[0;32m   1683\u001b[0m \n\u001b[0;32m   1684\u001b[0m \u001b[39m# PARSE message will notify database to create a prepared statement object\u001b[39;00m\n\u001b[1;32m-> 1685\u001b[0m \u001b[39mself\u001b[39;49m\u001b[39m.\u001b[39;49m_send_message(PARSE, val)\n\u001b[0;32m   1686\u001b[0m \u001b[39m# DESCRIBE message will specify the name of the existing prepared statement\u001b[39;00m\n\u001b[0;32m   1687\u001b[0m \u001b[39m# the response will be a parameterDescribing message describe the parameters needed\u001b[39;00m\n\u001b[0;32m   1688\u001b[0m \u001b[39m# and a RowDescription message describe the rows will be return(nodata message when no return rows)\u001b[39;00m\n\u001b[0;32m   1689\u001b[0m \u001b[39mself\u001b[39m\u001b[39m.\u001b[39m_send_message(DESCRIBE, STATEMENT \u001b[39m+\u001b[39m statement_name_bin)\n",
      "File \u001b[1;32md:\\Anaconda\\envs\\fundamentos-etl\\lib\\site-packages\\redshift_connector\\core.py:1793\u001b[0m, in \u001b[0;36mConnection._send_message\u001b[1;34m(self, code, data)\u001b[0m\n\u001b[0;32m   1791\u001b[0m \u001b[39mexcept\u001b[39;00m \u001b[39mValueError\u001b[39;00m \u001b[39mas\u001b[39;00m e:\n\u001b[0;32m   1792\u001b[0m     \u001b[39mif\u001b[39;00m \u001b[39mstr\u001b[39m(e) \u001b[39m==\u001b[39m \u001b[39m\"\u001b[39m\u001b[39mwrite to closed file\u001b[39m\u001b[39m\"\u001b[39m:\n\u001b[1;32m-> 1793\u001b[0m         \u001b[39mraise\u001b[39;00m InterfaceError(\u001b[39m\"\u001b[39m\u001b[39mconnection is closed\u001b[39m\u001b[39m\"\u001b[39m)\n\u001b[0;32m   1794\u001b[0m     \u001b[39melse\u001b[39;00m:\n\u001b[0;32m   1795\u001b[0m         \u001b[39mraise\u001b[39;00m e\n",
      "\u001b[1;31mInterfaceError\u001b[0m: connection is closed"
     ]
    }
   ],
   "source": [
    "conn.commit()"
   ]
  },
  {
   "cell_type": "code",
   "execution_count": null,
   "metadata": {},
   "outputs": [
    {
     "ename": "InterfaceError",
     "evalue": "connection is closed",
     "output_type": "error",
     "traceback": [
      "\u001b[1;31m---------------------------------------------------------------------------\u001b[0m",
      "\u001b[1;31mValueError\u001b[0m                                Traceback (most recent call last)",
      "File \u001b[1;32md:\\Anaconda\\envs\\fundamentos-etl\\lib\\site-packages\\redshift_connector\\core.py:1231\u001b[0m, in \u001b[0;36mConnection.close\u001b[1;34m(self)\u001b[0m\n\u001b[0;32m   1228\u001b[0m \u001b[39mtry\u001b[39;00m:\n\u001b[0;32m   1229\u001b[0m     \u001b[39m# Byte1('X') - Identifies the message as a terminate message.\u001b[39;00m\n\u001b[0;32m   1230\u001b[0m     \u001b[39m# Int32(4) - Message length, including self.\u001b[39;00m\n\u001b[1;32m-> 1231\u001b[0m     \u001b[39mself\u001b[39;49m\u001b[39m.\u001b[39;49m_write(TERMINATE_MSG)\n\u001b[0;32m   1232\u001b[0m     \u001b[39mself\u001b[39m\u001b[39m.\u001b[39m_flush()\n",
      "\u001b[1;31mValueError\u001b[0m: write to closed file",
      "\nDuring handling of the above exception, another exception occurred:\n",
      "\u001b[1;31mInterfaceError\u001b[0m                            Traceback (most recent call last)",
      "Cell \u001b[1;32mIn[19], line 1\u001b[0m\n\u001b[1;32m----> 1\u001b[0m conn\u001b[39m.\u001b[39;49mclose()\n",
      "File \u001b[1;32md:\\Anaconda\\envs\\fundamentos-etl\\lib\\site-packages\\redshift_connector\\core.py:1238\u001b[0m, in \u001b[0;36mConnection.close\u001b[1;34m(self)\u001b[0m\n\u001b[0;32m   1236\u001b[0m     \u001b[39mraise\u001b[39;00m InterfaceError(\u001b[39m\"\u001b[39m\u001b[39mconnection is closed\u001b[39m\u001b[39m\"\u001b[39m)\n\u001b[0;32m   1237\u001b[0m \u001b[39mexcept\u001b[39;00m \u001b[39mValueError\u001b[39;00m:\n\u001b[1;32m-> 1238\u001b[0m     \u001b[39mraise\u001b[39;00m InterfaceError(\u001b[39m\"\u001b[39m\u001b[39mconnection is closed\u001b[39m\u001b[39m\"\u001b[39m)\n\u001b[0;32m   1239\u001b[0m \u001b[39mexcept\u001b[39;00m socket\u001b[39m.\u001b[39merror:\n\u001b[0;32m   1240\u001b[0m     \u001b[39mpass\u001b[39;00m\n",
      "\u001b[1;31mInterfaceError\u001b[0m: connection is closed"
     ]
    }
   ],
   "source": [
    "conn.close()"
   ]
  }
 ],
 "metadata": {
  "kernelspec": {
   "display_name": "Python 3",
   "language": "python",
   "name": "python3"
  },
  "language_info": {
   "codemirror_mode": {
    "name": "ipython",
    "version": 3
   },
   "file_extension": ".py",
   "mimetype": "text/x-python",
   "name": "python",
   "nbconvert_exporter": "python",
   "pygments_lexer": "ipython3",
   "version": "3.10.11"
  },
  "orig_nbformat": 4
 },
 "nbformat": 4,
 "nbformat_minor": 2
}
